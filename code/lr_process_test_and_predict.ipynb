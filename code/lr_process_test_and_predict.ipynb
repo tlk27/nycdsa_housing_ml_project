{
 "cells": [
  {
   "cell_type": "code",
   "execution_count": 1,
   "metadata": {
    "pycharm": {
     "is_executing": false
    }
   },
   "outputs": [
    {
     "name": "stdout",
     "text": [
      "Populating the interactive namespace from numpy and matplotlib\n"
     ],
     "output_type": "stream"
    }
   ],
   "source": [
    "# The purpose of this file is to reflect the pre-processing steps that need to be\n",
    "# applied to the test data set to confirm it to the data state that the linear model expects.\n",
    "import janitor as jn\n",
    "import pandas as pd\n",
    "%pylab inline\n",
    "from joblib import load\n",
    "from sklearn.linear_model import LinearRegression"
   ]
  },
  {
   "cell_type": "code",
   "execution_count": 2,
   "metadata": {
    "pycharm": {
     "is_executing": false
    }
   },
   "outputs": [],
   "source": [
    "def import_and_subset_cols(test_data_file, column_list):\n",
    "    try:\n",
    "        initial_df = pd.read_csv(filepath_or_buffer=test_data_file, usecols=column_list, index_col=0)\n",
    "    except OSError as io_error:\n",
    "        raise(\"You have provided a file path reference that doesn't exist. Please check the file path.\")\n",
    "\n",
    "    if not column_list:\n",
    "        raise(\"You gave me an empty list you Pyscho :-).\")\n",
    "\n",
    "    return jn.clean_names(initial_df) # makes sure that the column names are lower case "
   ]
  },
  {
   "cell_type": "code",
   "execution_count": 3,
   "metadata": {
    "pycharm": {
     "is_executing": false
    }
   },
   "outputs": [],
   "source": [
    "def feature_creation(cleaned_df):\n",
    "    # adjust basement sqft to cap effect of outliers that I have high basement sf but that do not appear to be \n",
    "    # reflected in an increase in price \n",
    "    cleaned_df[\"totalbsmtsf\"] = cleaned_df[\"totalbsmtsf\"].apply(lambda x: 3000 if x > 3000 else x)\n",
    "\n",
    "    # Combined square footage metrics for building sf and outside sf (e.g., porch space)\n",
    "    bldg_sqft = cleaned_df[[\"totalbsmtsf\", \"1stflrsf\", \"2ndflrsf\"]].sum(axis = \"columns\")\n",
    "    outside_sf = cleaned_df[[\"wooddecksf\", \"openporchsf\", \"3ssnporch\", \"screenporch\", \"enclosedporch\"]].sum(axis=\"columns\")\n",
    "    lot_sf = cleaned_df[\"lotarea\"] - cleaned_df['1stflrsf'] - outside_sf\n",
    "    lot_sf = lot_sf.apply(lambda x: 12500 if x > 12500 else x)\n",
    "\n",
    "    # Combining above-basement and basement baths\n",
    "    total_baths = cleaned_df[\"fullbath\"].fillna(0)  + cleaned_df[\"halfbath\"].fillna(0)/ 2 + cleaned_df[\"bsmtfullbath\"].fillna(0) \\\n",
    "        + cleaned_df[\"bsmthalfbath\"].fillna(0) / 2\n",
    "\n",
    "    # Various Dummifications\n",
    "    # 0=1 flat if the building type is a single family home\n",
    "    sgl_famly_hm = cleaned_df[\"bldgtype\"].apply(lambda x: 0 if x == '1Fam' else 1)\n",
    "\n",
    "    # top 3 neighborhoods based upon median home price sales and general spread of prices based upon boxplot\n",
    "    top_3_nbrhd = cleaned_df[\"neighborhood\"].isin([\"NridgHt\", \"NoRidge\", \"StoneBr\"]).map({False: 0, True: 1})\n",
    "\n",
    "    # bottom 5 neighborhoods based upon median home and boxplot inspection\n",
    "    btm_5_nbrhd = cleaned_df[\"neighborhood\"].isin([\"MeadowV\", \"IDOTRR\", \"BrDale\", \"OldTown\", \"Edwards\"]).map({False: 0, True: 1})\n",
    "\n",
    "    # Fireplaces that are Excellent, Good or Typical/TA \n",
    "    good_frplc = cleaned_df[\"fireplacequ\"].isin([\"Ex\", \"Gd\", \"TA\"]).map({False: 0, True: 1})\n",
    "\n",
    "    # remodel age was general found to be more individually correlated with SalePrice than homeage than total home age\n",
    "    remodelage = cleaned_df[\"yrsold\"] - cleaned_df[\"yearremodadd\"]\n",
    "    remodelage = remodelage.apply(lambda x: 0 if abs(x) < 5 else x - 5)\n",
    "\n",
    "    # Various measures where higher amenity ratings that were associated with higher home prices\n",
    "    # these are being combined into a single \"positive amentities count\" feature \n",
    "\n",
    "    # 1 Excellent Heating (important for a cold place :-))\n",
    "    excl_heating = cleaned_df[\"heatingqc\"].isin([\"Ex\"]).map({False: 0, True: 1})\n",
    "\n",
    "    # 2 basement has GLQ (Good Living Quarter) in either \n",
    "    bsmt_gd_lvg = (cleaned_df[\"bsmtfintype1\"].isin([\"GLQ\"]) | cleaned_df[\"bsmtfintype2\"].isin([\"GLQ\"])).map({False: 0, True:1})\n",
    "\n",
    "    # 3 Good, Excellent and \"Typical\"/TA fireplaces\n",
    "    good_frplc = cleaned_df[\"fireplacequ\"].isin([\"Ex\", \"Gd\", \"TA\"]).map({False: 0, True: 1})\n",
    "\n",
    "    # 4 Good and Excellent Kitchens being combined together \n",
    "    ktch_groups = cleaned_df[\"kitchenqual\"].map({\"TA\": \"ktch_okay\", \"Fa\": \"ktch_okay\", \"Gd\": \"ktch_good\", \"Ex\": \"kitch_topnotch\"})\n",
    "    ktch_dummies = pd.get_dummies(data=ktch_groups).drop(\"ktch_okay\", axis=\"columns\")\n",
    "\n",
    "    # 5 Excellent Basement Quality\n",
    "    excl_bsmt = cleaned_df[\"bsmtqual\"].isin([\"Ex\"]).map({False: 0, True:1})\n",
    "    excl_bsmt.sum()\n",
    "\n",
    "    good_ament_ct = pd.concat([excl_heating, excl_bsmt, ktch_dummies, bsmt_gd_lvg, good_frplc], axis = \"columns\").sum(axis=\"columns\")\n",
    "\n",
    "    # Various measures where lower amenity ratings were associated with lower higher prices (versus the average/highly rated) \n",
    "    # these are being combined into a single \"negative amentities count\" feature\n",
    "\n",
    "    # 1 No fireplace\n",
    "    no_fireplace = cleaned_df[\"fireplaces\"] == 0\n",
    "    no_fireplace = no_fireplace.map({False: 0, True: 1})\n",
    "\n",
    "    # 2 No Central AC\n",
    "    no_central_ac = cleaned_df['centralair'].isin(['N']).map({False: 0, True:1}) \n",
    "\n",
    "    # Electirical aside from standard circuitbreaker\n",
    "    bad_electrical = cleaned_df['electrical'].isin(['Mix', 'FuseP', 'FuseF', 'FuseA']).map({False: 0, True:1})\n",
    "\n",
    "    bad_ament_ct = pd.concat([no_central_ac, no_fireplace, bad_electrical], axis=\"columns\").sum(axis=\"columns\")\n",
    "\n",
    "    # remaining features\n",
    "\n",
    "    #1 credit for having garage space for two or more cars\n",
    "    two_plus_cr_garg = cleaned_df[\"garagecars\"].apply(lambda x: 1 if x >= 2 else 0)\n",
    "\n",
    "    # houses with a 4 or less overall condition showed on average lower sale price then\n",
    "    # houses with an overall condition rating of 5 or higher \n",
    "    neg_ovrll_cond = cleaned_df[\"overallcond\"].apply(lambda x: 1 if x <= 4 else 0)\n",
    "\n",
    "    adj_lot_area = lot_sf.apply(lambda x: 25000 if x > 25000 else x)\n",
    "\n",
    "    abnormal_sale = (cleaned_df[\"salecondition\"] == \"Abnorml\").map({False: 0, True: 1}).fillna(0)\n",
    "\n",
    "    adj_ovr_qual = cleaned_df[\"overallqual\"].apply(lambda x: 0 if x <=3 else x - 3)\n",
    "\n",
    "\n",
    "    # bringing it all together\n",
    "\n",
    "    list_of_features = [\n",
    "                        abnormal_sale, adj_lot_area, adj_ovr_qual, bad_ament_ct, bldg_sqft, btm_5_nbrhd, \n",
    "                        good_ament_ct, neg_ovrll_cond, outside_sf, remodelage, sgl_famly_hm, top_3_nbrhd,\n",
    "                        total_baths, two_plus_cr_garg,\n",
    "                        ]\n",
    "\n",
    "    features_df = pd.concat(list_of_features, axis=\"columns\")\n",
    "\n",
    "\n",
    "    features_df.columns = [\n",
    "                            'abnormal_sale', 'adj_lot_area', 'adj_ovr_qual', 'bad_ament_ct', 'bldg_sqft', 'btm_5_nbrhd', \n",
    "                           'good_ament_ct', 'neg_ovrll_cond', 'outside_sf', 'remodelage', 'sgl_famly_hm', 'top_3_nbrhd',\n",
    "                           'total_baths', 'two_plus_cr_garg',\n",
    "                           ]\n",
    "\n",
    "    return features_df"
   ]
  },
  {
   "cell_type": "code",
   "execution_count": 4,
   "metadata": {
    "pycharm": {
     "is_executing": false
    }
   },
   "outputs": [
    {
     "data": {
      "text/plain": "array([11.6423242 , 11.94902678, 12.0749711 , ..., 11.96465725,\n       11.74963601, 12.27604616])"
     },
     "metadata": {},
     "output_type": "execute_result",
     "execution_count": 4
    }
   ],
   "source": [
    "#test_data_file_path = r\".\\data\\test.csv\"\n",
    "test_data_file_path = r\"C:\\Users\\jason\\OneDrive\\Documents\\Jason\\NYC Data Science Academy\\projects\\machine_learning\\ghub_work_area\\data\\test.csv\"\n",
    "# model_file_path = r\".\\model_files\\lr_log_model.joblib\"\n",
    "model_file_path = r\"C:\\Users\\jason\\OneDrive\\Documents\\Jason\\NYC Data Science Academy\\projects\\machine_learning\\ghub_work_area\\model_files\\lr_log_model.joblib\"\n",
    "\n",
    "import_list = ['Id', 'MSSubClass', 'MSZoning', 'LotFrontage', 'LotArea', 'Alley','LotShape', 'Neighborhood', 'Condition1',\n",
    "              'Condition2', 'BldgType', 'HouseStyle','OverallQual', 'OverallCond', 'YearBuilt', 'YearRemodAdd',\n",
    "              'Exterior1st', 'Exterior2nd', 'MasVnrType', 'MasVnrArea', 'BsmtQual', 'BsmtCond', 'BsmtExposure',\n",
    "              'BsmtFinType1', 'BsmtFinSF1', 'BsmtFinType2','BsmtFinSF2', 'BsmtUnfSF', 'TotalBsmtSF', 'CentralAir',\n",
    "              'Electrical', '1stFlrSF', '2ndFlrSF', 'LowQualFinSF', 'GrLivArea', 'BsmtFullBath', 'BsmtHalfBath',\n",
    "              'FullBath', 'HalfBath', 'BedroomAbvGr', 'KitchenAbvGr', 'KitchenQual', 'TotRmsAbvGrd', 'Fireplaces',\n",
    "              'FireplaceQu', 'WoodDeckSF', 'OpenPorchSF', 'EnclosedPorch', '3SsnPorch','ScreenPorch', 'YrSold',\n",
    "              'SaleType', 'SaleCondition','Electrical',\"HeatingQC\",\"Fireplaces\", \"FireplaceQu\", \"BsmtQual\", \"BsmtFinType1\",\n",
    "              \"BsmtFinType2\", 'LotFrontage', 'LotArea', 'GarageCars', 'OverallCond',]\n",
    "\n",
    "\n",
    "imported_df = import_and_subset_cols(test_data_file=test_data_file_path, column_list=import_list)\n",
    "features_df = feature_creation(imported_df)\n",
    "\n",
    "lr_model = load(model_file_path)\n",
    "\n",
    "log_saleprice_predict = lr_model.predict(features_df)\n",
    "log_saleprice_predict"
   ]
  },
  {
   "cell_type": "code",
   "execution_count": 5,
   "metadata": {
    "pycharm": {
     "is_executing": false
    }
   },
   "outputs": [],
   "source": [
    "predict_df = pd.DataFrame(\n",
    "    np.exp(log_saleprice_predict),\n",
    "    index=imported_df.index \n",
    ")\n",
    "\n",
    "predict_df = predict_df.reset_index()"
   ]
  },
  {
   "cell_type": "code",
   "execution_count": 7,
   "metadata": {
    "pycharm": {
     "is_executing": false
    }
   },
   "outputs": [],
   "source": [
    "output_filepath = r\"../predictions/linear_predictions.csv\"\n",
    "# output_filepath = r\"C:\\Users\\jason\\OneDrive\\Documents\\Jason\\NYC Data Science Academy\\projects\\machine_learning\\ghub_work_area\\predictions\\linear_predictions.csv\"\n",
    "predict_df.columns = [\"Id\", \"SalePrice\"]\n",
    "predict_df.to_csv(output_filepath,index=False)"
   ]
  },
  {
   "cell_type": "code",
   "execution_count": 8,
   "metadata": {
    "pycharm": {
     "is_executing": false
    }
   },
   "outputs": [
    {
     "data": {
      "text/plain": "(1459, 2)"
     },
     "metadata": {},
     "output_type": "execute_result",
     "execution_count": 8
    }
   ],
   "source": [
    "predict_df.shape\n"
   ]
  },
  {
   "cell_type": "code",
   "execution_count": 9,
   "metadata": {
    "pycharm": {
     "is_executing": false
    }
   },
   "outputs": [
    {
     "data": {
      "text/plain": "Int64Index([1461, 1462, 1463, 1464, 1465, 1466, 1467, 1468, 1469, 1470,\n            ...\n            2910, 2911, 2912, 2913, 2914, 2915, 2916, 2917, 2918, 2919],\n           dtype='int64', name='Id', length=1459)"
     },
     "metadata": {},
     "output_type": "execute_result",
     "execution_count": 9
    }
   ],
   "source": [
    "features_df.index\n",
    "\n"
   ]
  },
  {
   "cell_type": "code",
   "execution_count": 10,
   "metadata": {
    "pycharm": {
     "is_executing": false
    }
   },
   "outputs": [
    {
     "data": {
      "text/plain": "mssubclass            20\nmszoning              RL\nlotfrontage          128\nlotarea            39290\nalley                NaN\nlotshape             IR1\nneighborhood     Edwards\ncondition1          Norm\ncondition2          Norm\nbldgtype            1Fam\nhousestyle        1Story\noverallqual           10\noverallcond            5\nyearbuilt           2008\nyearremodadd        2009\nexterior1st      CemntBd\nexterior2nd      CmentBd\nmasvnrtype         Stone\nmasvnrarea          1224\nbsmtqual              Ex\nbsmtcond              TA\nbsmtexposure          Gd\nbsmtfintype1         GLQ\nbsmtfinsf1          4010\nbsmtfintype2         Unf\nbsmtfinsf2             0\nbsmtunfsf           1085\ntotalbsmtsf         3000\nheatingqc             Ex\ncentralair             Y\nelectrical         SBrkr\n1stflrsf            5095\n2ndflrsf               0\nlowqualfinsf           0\ngrlivarea           5095\nbsmtfullbath           1\nbsmthalfbath           1\nfullbath               2\nhalfbath               1\nbedroomabvgr           2\nkitchenabvgr           1\nkitchenqual           Ex\ntotrmsabvgrd          15\nfireplaces             2\nfireplacequ           Gd\ngaragecars             3\nwooddecksf           546\nopenporchsf          484\nenclosedporch          0\n3ssnporch              0\nscreenporch            0\nyrsold              2007\nsaletype             New\nsalecondition    Partial\nName: 2550, dtype: object"
     },
     "metadata": {},
     "output_type": "execute_result",
     "execution_count": 10
    }
   ],
   "source": [
    "imported_df.loc[2550, ] "
   ]
  },
  {
   "cell_type": "code",
   "execution_count": 11,
   "metadata": {
    "collapsed": false,
    "pycharm": {
     "is_executing": false,
     "name": "#%%\n"
    }
   },
   "outputs": [
    {
     "data": {
      "text/plain": "abnormal_sale           0.0\nadj_lot_area        12500.0\nadj_ovr_qual            7.0\nbad_ament_ct            0.0\nbldg_sqft            8095.0\nbtm_5_nbrhd             1.0\ngood_ament_ct           5.0\nneg_ovrll_cond          0.0\noutside_sf           1030.0\nremodelage              0.0\nsgl_famly_hm            0.0\ntop_3_nbrhd             0.0\ntotal_baths             4.0\ntwo_plus_cr_garg        1.0\nName: 2550, dtype: float64"
     },
     "metadata": {},
     "output_type": "execute_result",
     "execution_count": 11
    }
   ],
   "source": [
    "features_df.loc[2550, ]\n"
   ]
  },
  {
   "cell_type": "code",
   "execution_count": 12,
   "metadata": {
    "pycharm": {
     "is_executing": false
    }
   },
   "outputs": [
    {
     "data": {
      "text/plain": "mssubclass            20\nmszoning              RH\nlotfrontage           80\nlotarea            11622\nalley                NaN\nlotshape             Reg\nneighborhood       NAmes\ncondition1         Feedr\ncondition2          Norm\nbldgtype            1Fam\nhousestyle        1Story\noverallqual            5\noverallcond            6\nyearbuilt           1961\nyearremodadd        1961\nexterior1st      VinylSd\nexterior2nd      VinylSd\nmasvnrtype          None\nmasvnrarea             0\nbsmtqual              TA\nbsmtcond              TA\nbsmtexposure          No\nbsmtfintype1         Rec\nbsmtfinsf1           468\nbsmtfintype2         LwQ\nbsmtfinsf2           144\nbsmtunfsf            270\ntotalbsmtsf          882\nheatingqc             TA\ncentralair             Y\nelectrical         SBrkr\n1stflrsf             896\n2ndflrsf               0\nlowqualfinsf           0\ngrlivarea            896\nbsmtfullbath           0\nbsmthalfbath           0\nfullbath               1\nhalfbath               0\nbedroomabvgr           2\nkitchenabvgr           1\nkitchenqual           TA\ntotrmsabvgrd           5\nfireplaces             0\nfireplacequ          NaN\ngaragecars             1\nwooddecksf           140\nopenporchsf            0\nenclosedporch          0\n3ssnporch              0\nscreenporch          120\nyrsold              2010\nsaletype              WD\nsalecondition     Normal\nName: 1461, dtype: object"
     },
     "metadata": {},
     "output_type": "execute_result",
     "execution_count": 12
    }
   ],
   "source": [
    "imported_df.iloc[0, :]\n"
   ]
  },
  {
   "cell_type": "code",
   "execution_count": 13,
   "metadata": {
    "pycharm": {
     "is_executing": false
    }
   },
   "outputs": [
    {
     "data": {
      "text/plain": "<matplotlib.axes._subplots.AxesSubplot at 0x1f8768316c8>"
     },
     "metadata": {},
     "output_type": "execute_result",
     "execution_count": 13
    }
   ],
   "source": [
    "predict_df[\"SalePrice\"].plot.hist()\n"
   ]
  },
  {
   "cell_type": "code",
   "execution_count": 14,
   "metadata": {
    "pycharm": {
     "is_executing": false
    }
   },
   "outputs": [
    {
     "data": {
      "text/plain": "<matplotlib.axes._subplots.AxesSubplot at 0x1f8768316c8>"
     },
     "metadata": {},
     "output_type": "execute_result",
     "execution_count": 14
    }
   ],
   "source": [
    "features_df[\"bldg_sqft\"].plot.hist()"
   ]
  },
  {
   "cell_type": "code",
   "execution_count": null,
   "metadata": {},
   "outputs": [],
   "source": []
  }
 ],
 "metadata": {
  "kernelspec": {
   "name": "python37664bitbaseconda78814975a87e45dd93a41087a924c115",
   "language": "python",
   "display_name": "Python 3.7.6 64-bit ('base': conda)"
  },
  "language_info": {
   "codemirror_mode": {
    "name": "ipython",
    "version": 2
   },
   "file_extension": ".py",
   "mimetype": "text/x-python",
   "name": "python",
   "nbconvert_exporter": "python",
   "pygments_lexer": "ipython2",
   "version": "3.7.6-final"
  },
  "pycharm": {
   "stem_cell": {
    "cell_type": "raw",
    "source": [],
    "metadata": {
     "collapsed": false
    }
   }
  }
 },
 "nbformat": 4,
 "nbformat_minor": 0
}