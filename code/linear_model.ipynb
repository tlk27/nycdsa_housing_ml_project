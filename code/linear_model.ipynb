{
 "cells": [
  {
   "cell_type": "code",
   "execution_count": 1,
   "metadata": {
    "pycharm": {
     "is_executing": false
    }
   },
   "outputs": [
    {
     "name": "stdout",
     "output_type": "stream",
     "text": [
      "Populating the interactive namespace from numpy and matplotlib\n"
     ]
    }
   ],
   "source": [
    "import pandas as pd\n",
    "%pylab inline"
   ]
  },
  {
   "cell_type": "code",
   "execution_count": 2,
   "metadata": {
    "pycharm": {
     "is_executing": false
    }
   },
   "outputs": [
    {
     "data": {
      "text/html": [
       "<div>\n",
       "<style scoped>\n",
       "    .dataframe tbody tr th:only-of-type {\n",
       "        vertical-align: middle;\n",
       "    }\n",
       "\n",
       "    .dataframe tbody tr th {\n",
       "        vertical-align: top;\n",
       "    }\n",
       "\n",
       "    .dataframe thead th {\n",
       "        text-align: right;\n",
       "    }\n",
       "</style>\n",
       "<table border=\"1\" class=\"dataframe\">\n",
       "  <thead>\n",
       "    <tr style=\"text-align: right;\">\n",
       "      <th></th>\n",
       "      <th>bldg_sf</th>\n",
       "      <th>total_baths</th>\n",
       "      <th>good_ament_ct</th>\n",
       "      <th>btm_5_nbrhd</th>\n",
       "      <th>newHome</th>\n",
       "      <th>neg_ovrll_cond</th>\n",
       "      <th>adj_ovr_qual</th>\n",
       "      <th>adj_lot_area</th>\n",
       "      <th>bad_ament_ct</th>\n",
       "      <th>abnormal_sale</th>\n",
       "      <th>...</th>\n",
       "      <th>two_plus_cr_garg</th>\n",
       "      <th>sgl_famly_hm</th>\n",
       "      <th>top_3_nbrhd</th>\n",
       "      <th>homeage</th>\n",
       "      <th>remodelage</th>\n",
       "      <th>lotfrontage</th>\n",
       "      <th>garagecars</th>\n",
       "      <th>bedroomsabvgr</th>\n",
       "      <th>saleprice</th>\n",
       "      <th>log_saleprice</th>\n",
       "    </tr>\n",
       "    <tr>\n",
       "      <th>Id</th>\n",
       "      <th></th>\n",
       "      <th></th>\n",
       "      <th></th>\n",
       "      <th></th>\n",
       "      <th></th>\n",
       "      <th></th>\n",
       "      <th></th>\n",
       "      <th></th>\n",
       "      <th></th>\n",
       "      <th></th>\n",
       "      <th></th>\n",
       "      <th></th>\n",
       "      <th></th>\n",
       "      <th></th>\n",
       "      <th></th>\n",
       "      <th></th>\n",
       "      <th></th>\n",
       "      <th></th>\n",
       "      <th></th>\n",
       "      <th></th>\n",
       "      <th></th>\n",
       "    </tr>\n",
       "  </thead>\n",
       "  <tbody>\n",
       "    <tr>\n",
       "      <th>446</th>\n",
       "      <td>3125</td>\n",
       "      <td>1.0</td>\n",
       "      <td>1</td>\n",
       "      <td>1</td>\n",
       "      <td>0</td>\n",
       "      <td>0</td>\n",
       "      <td>3</td>\n",
       "      <td>8166</td>\n",
       "      <td>0</td>\n",
       "      <td>0</td>\n",
       "      <td>...</td>\n",
       "      <td>1</td>\n",
       "      <td>0</td>\n",
       "      <td>0</td>\n",
       "      <td>53</td>\n",
       "      <td>48</td>\n",
       "      <td>73.0</td>\n",
       "      <td>2</td>\n",
       "      <td>3</td>\n",
       "      <td>127500</td>\n",
       "      <td>11.755872</td>\n",
       "    </tr>\n",
       "    <tr>\n",
       "      <th>1110</th>\n",
       "      <td>3672</td>\n",
       "      <td>3.0</td>\n",
       "      <td>5</td>\n",
       "      <td>0</td>\n",
       "      <td>0</td>\n",
       "      <td>0</td>\n",
       "      <td>5</td>\n",
       "      <td>9216</td>\n",
       "      <td>0</td>\n",
       "      <td>0</td>\n",
       "      <td>...</td>\n",
       "      <td>1</td>\n",
       "      <td>0</td>\n",
       "      <td>1</td>\n",
       "      <td>5</td>\n",
       "      <td>0</td>\n",
       "      <td>107.0</td>\n",
       "      <td>3</td>\n",
       "      <td>3</td>\n",
       "      <td>280000</td>\n",
       "      <td>12.542545</td>\n",
       "    </tr>\n",
       "    <tr>\n",
       "      <th>38</th>\n",
       "      <td>2594</td>\n",
       "      <td>1.5</td>\n",
       "      <td>1</td>\n",
       "      <td>0</td>\n",
       "      <td>0</td>\n",
       "      <td>0</td>\n",
       "      <td>2</td>\n",
       "      <td>7235</td>\n",
       "      <td>0</td>\n",
       "      <td>0</td>\n",
       "      <td>...</td>\n",
       "      <td>1</td>\n",
       "      <td>0</td>\n",
       "      <td>0</td>\n",
       "      <td>55</td>\n",
       "      <td>14</td>\n",
       "      <td>74.0</td>\n",
       "      <td>2</td>\n",
       "      <td>3</td>\n",
       "      <td>153000</td>\n",
       "      <td>11.938193</td>\n",
       "    </tr>\n",
       "    <tr>\n",
       "      <th>759</th>\n",
       "      <td>2245</td>\n",
       "      <td>2.5</td>\n",
       "      <td>0</td>\n",
       "      <td>0</td>\n",
       "      <td>0</td>\n",
       "      <td>0</td>\n",
       "      <td>4</td>\n",
       "      <td>1523</td>\n",
       "      <td>1</td>\n",
       "      <td>0</td>\n",
       "      <td>...</td>\n",
       "      <td>1</td>\n",
       "      <td>1</td>\n",
       "      <td>0</td>\n",
       "      <td>9</td>\n",
       "      <td>4</td>\n",
       "      <td>24.0</td>\n",
       "      <td>2</td>\n",
       "      <td>3</td>\n",
       "      <td>179400</td>\n",
       "      <td>12.097373</td>\n",
       "    </tr>\n",
       "    <tr>\n",
       "      <th>743</th>\n",
       "      <td>2698</td>\n",
       "      <td>2.0</td>\n",
       "      <td>1</td>\n",
       "      <td>0</td>\n",
       "      <td>0</td>\n",
       "      <td>0</td>\n",
       "      <td>4</td>\n",
       "      <td>6926</td>\n",
       "      <td>1</td>\n",
       "      <td>0</td>\n",
       "      <td>...</td>\n",
       "      <td>1</td>\n",
       "      <td>0</td>\n",
       "      <td>0</td>\n",
       "      <td>7</td>\n",
       "      <td>1</td>\n",
       "      <td>65.0</td>\n",
       "      <td>2</td>\n",
       "      <td>3</td>\n",
       "      <td>179000</td>\n",
       "      <td>12.095141</td>\n",
       "    </tr>\n",
       "  </tbody>\n",
       "</table>\n",
       "<p>5 rows × 21 columns</p>\n",
       "</div>"
      ],
      "text/plain": [
       "      bldg_sf  total_baths  good_ament_ct  btm_5_nbrhd  newHome  \\\n",
       "Id                                                                \n",
       "446      3125          1.0              1            1        0   \n",
       "1110     3672          3.0              5            0        0   \n",
       "38       2594          1.5              1            0        0   \n",
       "759      2245          2.5              0            0        0   \n",
       "743      2698          2.0              1            0        0   \n",
       "\n",
       "      neg_ovrll_cond  adj_ovr_qual  adj_lot_area  bad_ament_ct  abnormal_sale  \\\n",
       "Id                                                                              \n",
       "446                0             3          8166             0              0   \n",
       "1110               0             5          9216             0              0   \n",
       "38                 0             2          7235             0              0   \n",
       "759                0             4          1523             1              0   \n",
       "743                0             4          6926             1              0   \n",
       "\n",
       "      ...  two_plus_cr_garg  sgl_famly_hm  top_3_nbrhd  homeage  remodelage  \\\n",
       "Id    ...                                                                     \n",
       "446   ...                 1             0            0       53          48   \n",
       "1110  ...                 1             0            1        5           0   \n",
       "38    ...                 1             0            0       55          14   \n",
       "759   ...                 1             1            0        9           4   \n",
       "743   ...                 1             0            0        7           1   \n",
       "\n",
       "      lotfrontage  garagecars  bedroomsabvgr  saleprice  log_saleprice  \n",
       "Id                                                                      \n",
       "446          73.0           2              3     127500      11.755872  \n",
       "1110        107.0           3              3     280000      12.542545  \n",
       "38           74.0           2              3     153000      11.938193  \n",
       "759          24.0           2              3     179400      12.097373  \n",
       "743          65.0           2              3     179000      12.095141  \n",
       "\n",
       "[5 rows x 21 columns]"
      ]
     },
     "execution_count": 2,
     "metadata": {},
     "output_type": "execute_result"
    }
   ],
   "source": [
    "file_path = r\"../pre_processed_data/pre_processed.csv\"\n",
    "\n",
    "# import pre_processed file \n",
    "pre_process_df = pd.read_csv(filepath_or_buffer=file_path, index_col=0, header=0)\n",
    "pre_process_df.sample(5)"
   ]
  },
  {
   "cell_type": "code",
   "execution_count": 3,
   "metadata": {
    "pycharm": {
     "is_executing": false
    }
   },
   "outputs": [
    {
     "data": {
      "text/plain": [
       "21"
      ]
     },
     "execution_count": 3,
     "metadata": {},
     "output_type": "execute_result"
    }
   ],
   "source": [
    "len(pre_process_df.columns)"
   ]
  },
  {
   "cell_type": "code",
   "execution_count": 4,
   "metadata": {
    "pycharm": {
     "is_executing": false
    }
   },
   "outputs": [
    {
     "name": "stdout",
     "output_type": "stream",
     "text": [
      "(1458, 19)\n",
      "(1458,)\n"
     ]
    },
    {
     "data": {
      "text/plain": [
       "(1458,)"
      ]
     },
     "execution_count": 4,
     "metadata": {},
     "output_type": "execute_result"
    }
   ],
   "source": [
    "# remove target variables from data frame\n",
    "X = pre_process_df.loc[:, pre_process_df.columns.difference([\"saleprice\", \"log_saleprice\"])]\n",
    "\n",
    "y = pre_process_df[\"saleprice\"]\n",
    "y_log = pre_process_df[\"log_saleprice\"]\n",
    "\n",
    "print(X.shape)\n",
    "print(y.shape)\n",
    "y_log.shape"
   ]
  },
  {
   "cell_type": "code",
   "execution_count": 5,
   "metadata": {
    "pycharm": {
     "is_executing": false
    }
   },
   "outputs": [],
   "source": [
    "# train, test split with train set to 80%\n",
    "# A linear regression model will be evaluated first in the absence of regularization\n",
    "from sklearn.model_selection import train_test_split\n",
    "\n",
    "X_train, X_test, y_train, y_test = train_test_split(X, y, test_size= 0.2, random_state=42)\n",
    "X_train_log, X_test_log, y_train_log, y_test_log = train_test_split(X, y_log, test_size= 0.2, random_state=42)"
   ]
  },
  {
   "cell_type": "code",
   "execution_count": 6,
   "metadata": {
    "lines_to_next_cell": 2,
    "pycharm": {
     "is_executing": false
    }
   },
   "outputs": [
    {
     "name": "stdout",
     "output_type": "stream",
     "text": [
      "Train R2 is 0.7724270146818532\n",
      "Test R2 is 0.7737540355249631\n"
     ]
    },
    {
     "name": "stderr",
     "output_type": "stream",
     "text": [
      "C:\\Users\\jason\\Anaconda3\\lib\\site-packages\\sklearn\\linear_model\\_huber.py:296: ConvergenceWarning: lbfgs failed to converge (status=1):\n",
      "STOP: TOTAL NO. of ITERATIONS REACHED LIMIT.\n",
      "\n",
      "Increase the number of iterations (max_iter) or scale the data as shown in:\n",
      "    https://scikit-learn.org/stable/modules/preprocessing.html\n",
      "  self.n_iter_ = _check_optimize_result(\"lbfgs\", opt_res, self.max_iter)\n"
     ]
    }
   ],
   "source": [
    "from sklearn.linear_model import HuberRegressor, LinearRegression\n",
    "# Evaluation of Huber regressor against SalePrice w/o log-transform \n",
    "# Huber regression is a linear model that is more robust to outliers than the standard model, which penalizes the model\n",
    "# for higher deviations.\n",
    "\n",
    "hr = HuberRegressor()\n",
    "hr.fit(X=X_train, y=y_train)\n",
    "print(f\"Train R2 is {hr.score(X=X_train, y=y_train)}\")\n",
    "print(f\"Test R2 is {hr.score(X=X_test, y=y_test)}\")"
   ]
  },
  {
   "cell_type": "code",
   "execution_count": 7,
   "metadata": {
    "pycharm": {
     "is_executing": false
    }
   },
   "outputs": [
    {
     "name": "stdout",
     "output_type": "stream",
     "text": [
      "Train R2 is 0.865528013586334\n",
      "Test R2 is 0.8803731496623596\n"
     ]
    }
   ],
   "source": [
    "# Standard regression w/o log transform \n",
    "lr = LinearRegression()\n",
    "lr.fit(X=X_train, y=y_train)\n",
    "print(f\"Train R2 is {lr.score(X=X_train, y=y_train)}\")\n",
    "print(f\"Test R2 is {lr.score(X=X_test, y=y_test)}\")"
   ]
  },
  {
   "cell_type": "code",
   "execution_count": 8,
   "metadata": {
    "pycharm": {
     "is_executing": false
    }
   },
   "outputs": [
    {
     "name": "stdout",
     "output_type": "stream",
     "text": [
      "Train R2 is 0.9012482973030288\n",
      "Test R2 is 0.8949971153107689\n"
     ]
    }
   ],
   "source": [
    "# Standard regression w/log transform \n",
    "lr_log = LinearRegression()\n",
    "lr_log.fit(X=X_train_log, y=y_train_log)\n",
    "print(f\"Train R2 is {lr_log.score(X=X_train_log, y=y_train_log)}\")\n",
    "print(f\"Test R2 is {lr_log.score(X=X_test_log, y=y_test_log)}\")\n",
    "\n",
    "# There is a slight improvement (~2%) in the train R2 and test R2 utilizing log transform "
   ]
  },
  {
   "cell_type": "markdown",
   "metadata": {
    "collapsed": false,
    "pycharm": {
     "name": "#%% md\n"
    }
   },
   "source": [
    "## Model Evaluation - Linear Regression\n",
    "### The following section evaluates the random error, constant variance and normal distribution with mean 0 assumption of linear model in the context of the four initial models utilizing a residual plot from Yellowbrick.\n"
   ]
  },
  {
   "cell_type": "code",
   "execution_count": 9,
   "metadata": {
    "lines_to_next_cell": 2,
    "pycharm": {
     "is_executing": false
    }
   },
   "outputs": [
    {
     "name": "stderr",
     "output_type": "stream",
     "text": [
      "C:\\Users\\jason\\Anaconda3\\lib\\site-packages\\sklearn\\utils\\deprecation.py:144: FutureWarning: The sklearn.metrics.classification module is  deprecated in version 0.22 and will be removed in version 0.24. The corresponding classes / functions should instead be imported from sklearn.metrics. Anything that cannot be imported from sklearn.metrics is now part of the private API.\n",
      "  warnings.warn(message, FutureWarning)\n"
     ]
    },
    {
     "data": {
      "text/plain": [
       "<matplotlib.axes._subplots.AxesSubplot at 0x1fcc4d7a1c8>"
      ]
     },
     "execution_count": 9,
     "metadata": {},
     "output_type": "execute_result"
    }
   ],
   "source": [
    "# Residual Plot for Huber LR with no log-transform\n",
    "from yellowbrick.regressor import ResidualsPlot\n",
    "rpv_hr = ResidualsPlot(hr)\n",
    "rpv_hr.fit(X=X_train, y=y_train)\n",
    "rpv_hr.score(X=X_test, y=y_test)\n",
    "rpv_hr.poof()"
   ]
  },
  {
   "cell_type": "code",
   "execution_count": 10,
   "metadata": {
    "lines_to_next_cell": 2,
    "pycharm": {
     "is_executing": false
    }
   },
   "outputs": [
    {
     "data": {
      "text/plain": [
       "<matplotlib.axes._subplots.AxesSubplot at 0x1fcc4d7a1c8>"
      ]
     },
     "execution_count": 10,
     "metadata": {},
     "output_type": "execute_result"
    }
   ],
   "source": [
    "rpv_lr = ResidualsPlot(lr)\n",
    "rpv_lr.fit(X=X_train, y=y_train)\n",
    "rpv_lr.score(X=X_test, y=y_test)\n",
    "rpv_lr.poof()\n"
   ]
  },
  {
   "cell_type": "code",
   "execution_count": 11,
   "metadata": {
    "pycharm": {
     "is_executing": false
    }
   },
   "outputs": [
    {
     "data": {
      "text/plain": [
       "<matplotlib.axes._subplots.AxesSubplot at 0x1fcc4d7a1c8>"
      ]
     },
     "execution_count": 11,
     "metadata": {},
     "output_type": "execute_result"
    }
   ],
   "source": [
    "# Residual Plot for LR with log transform \n",
    "rpv_lr_log = ResidualsPlot(lr_log)\n",
    "rpv_lr_log.fit(X=X_train_log, y=y_train_log)\n",
    "rpv_lr_log.score(X=X_test_log, y=y_test_log)\n",
    "rpv_lr_log.poof()"
   ]
  },
  {
   "cell_type": "markdown",
   "metadata": {
    "collapsed": false,
    "pycharm": {
     "name": "#%% md\n"
    }
   },
   "source": [
    "## Model Evaluation of Ordinary Least Squares -Log Transform\n",
    "- Evaluation of log-transformed OLS model as the residuals plot appeared to satisfy most of the principal assumptions of linear regression. "
   ]
  },
  {
   "cell_type": "code",
   "execution_count": 12,
   "metadata": {
    "pycharm": {
     "is_executing": false
    }
   },
   "outputs": [
    {
     "name": "stdout",
     "output_type": "stream",
     "text": [
      "                            OLS Regression Results                            \n",
      "==============================================================================\n",
      "Dep. Variable:          log_saleprice   R-squared:                       0.901\n",
      "Model:                            OLS   Adj. R-squared:                  0.900\n",
      "Method:                 Least Squares   F-statistic:                     550.5\n",
      "Date:                Fri, 28 Feb 2020   Prob (F-statistic):               0.00\n",
      "Time:                        23:17:38   Log-Likelihood:                 773.09\n",
      "No. Observations:                1166   AIC:                            -1506.\n",
      "Df Residuals:                    1146   BIC:                            -1405.\n",
      "Df Model:                          19                                         \n",
      "Covariance Type:            nonrobust                                         \n",
      "====================================================================================\n",
      "                       coef    std err          t      P>|t|      [0.025      0.975]\n",
      "------------------------------------------------------------------------------------\n",
      "const               11.1488      0.025    451.983      0.000      11.100      11.197\n",
      "abnormal_sale       -0.0818      0.015     -5.318      0.000      -0.112      -0.052\n",
      "adj_lot_area      2.295e-06   3.74e-07      6.139      0.000    1.56e-06    3.03e-06\n",
      "adj_ovr_qual         0.0578      0.005     11.889      0.000       0.048       0.067\n",
      "bad_ament_ct        -0.0267      0.007     -4.063      0.000      -0.040      -0.014\n",
      "bedroomsabvgr       -0.0018      0.005     -0.343      0.732      -0.012       0.009\n",
      "bldg_sf              0.0002    8.8e-06     20.472      0.000       0.000       0.000\n",
      "btm_5_nbrhd         -0.0836      0.011     -7.297      0.000      -0.106      -0.061\n",
      "garagecars           0.0743      0.011      6.699      0.000       0.053       0.096\n",
      "good_ament_ct        0.0256      0.005      5.470      0.000       0.016       0.035\n",
      "homeage             -0.0004      0.000     -2.150      0.032      -0.001   -3.93e-05\n",
      "lotfrontage       8.446e-06      0.000      0.073      0.942      -0.000       0.000\n",
      "neg_ovrll_cond      -0.1196      0.017     -7.153      0.000      -0.152      -0.087\n",
      "newHome              0.0201      0.013      1.555      0.120      -0.005       0.045\n",
      "outside_sf           0.0001   2.63e-05      4.846      0.000     7.6e-05       0.000\n",
      "remodelage          -0.0013      0.000     -4.826      0.000      -0.002      -0.001\n",
      "sgl_famly_hm        -0.0678      0.011     -6.166      0.000      -0.089      -0.046\n",
      "top_3_nbrhd          0.0667      0.015      4.355      0.000       0.037       0.097\n",
      "total_baths          0.0581      0.007      8.241      0.000       0.044       0.072\n",
      "two_plus_cr_garg    -0.0337      0.016     -2.055      0.040      -0.066      -0.002\n",
      "==============================================================================\n",
      "Omnibus:                      244.091   Durbin-Watson:                   1.960\n",
      "Prob(Omnibus):                  0.000   Jarque-Bera (JB):             1515.633\n",
      "Skew:                          -0.812   Prob(JB):                         0.00\n",
      "Kurtosis:                       8.344   Cond. No.                     9.88e+04\n",
      "==============================================================================\n",
      "\n",
      "Warnings:\n",
      "[1] Standard Errors assume that the covariance matrix of the errors is correctly specified.\n",
      "[2] The condition number is large, 9.88e+04. This might indicate that there are\n",
      "strong multicollinearity or other numerical problems.\n"
     ]
    }
   ],
   "source": [
    "import statsmodels.api as sm\n",
    "X_add_constant = sm.add_constant(X_train_log)\n",
    "ols_log = sm.OLS(y_train_log, X_add_constant)\n",
    "ans_log = ols_log.fit()\n",
    "print(ans_log.summary())"
   ]
  },
  {
   "cell_type": "markdown",
   "metadata": {
    "collapsed": false,
    "pycharm": {
     "name": "#%% md\n"
    }
   },
   "source": [
    "- based on the OLS review, several factors are deemed non-significant by the model (e.g., there is not enough evidience to support that they are important to predicting sales price). These preidctors are bedrooms, lotfrontage, and whether a home is a new home. \n",
    "- There are several coefficients that on the surface do not appear to make sense - namely the negative coefficient associated with two_plus_cr_garabe, this coefficient is negative whereas the domain association with this feature being that a two car or more garage capacity is good for a house. \n",
    "- The model will be recaliberated dropping these three features.\n",
    "- homeage is being excluded in favor of remodelage due to its lower significance. \n",
    "- garagecars is being dropped because there is an overalp between that variable and the \"two_plus_cr_garg\" feature"
   ]
  },
  {
   "cell_type": "code",
   "execution_count": 13,
   "metadata": {
    "pycharm": {
     "is_executing": false
    }
   },
   "outputs": [
    {
     "name": "stdout",
     "output_type": "stream",
     "text": [
      "Train R2 is 0.8955821910594489\n",
      "Test R2 is 0.8919295434632165\n"
     ]
    }
   ],
   "source": [
    "X_train_log = X_train_log.loc[:, X.columns.difference([\"bedroomsabvgr\", \"lotfrontage\", \"newHome\", \"homeage\", \"garagecars\"])]\n",
    "X_test_log = X_test_log.loc[:, X.columns.difference([\"bedroomsabvgr\", \"lotfrontage\", \"newHome\", \"homeage\", \"garagecars\"])]\n",
    "\n",
    "\n",
    "lr_log.fit(X=X_train_log, y=y_train_log)\n",
    "lr_log.score(X=X_test_log, y=y_test_log)\n",
    "print(f\"Train R2 is {lr_log.score(X=X_train_log, y=y_train_log)}\")\n",
    "print(f\"Test R2 is {lr_log.score(X=X_test_log, y=y_test_log)}\")"
   ]
  },
  {
   "cell_type": "markdown",
   "metadata": {
    "collapsed": false,
    "pycharm": {
     "name": "#%% md\n"
    }
   },
   "source": [
    "- The train and test R2 are very similar to the model (e.g., 90/89%) prior to dropping the four variables. \n",
    "- The residual plot and stats model output will be evaluated to confirm that the prior assumptions still hold as well as to identify any other items to potentiall exclude before proceeding to cross-validation.\n"
   ]
  },
  {
   "cell_type": "code",
   "execution_count": 14,
   "metadata": {
    "pycharm": {
     "is_executing": false
    }
   },
   "outputs": [
    {
     "data": {
      "text/plain": [
       "<matplotlib.axes._subplots.AxesSubplot at 0x1fcc4d7a1c8>"
      ]
     },
     "execution_count": 14,
     "metadata": {},
     "output_type": "execute_result"
    }
   ],
   "source": [
    "rpv_lr_log = ResidualsPlot(lr_log)\n",
    "rpv_lr_log.fit(X=X_train_log, y=y_train_log)\n",
    "rpv_lr_log.score(X=X_test_log, y=y_test_log)\n",
    "rpv_lr_log.poof()"
   ]
  },
  {
   "cell_type": "code",
   "execution_count": 15,
   "metadata": {
    "pycharm": {
     "is_executing": false
    }
   },
   "outputs": [
    {
     "name": "stdout",
     "output_type": "stream",
     "text": [
      "                            OLS Regression Results                            \n",
      "==============================================================================\n",
      "Dep. Variable:          log_saleprice   R-squared:                       0.896\n",
      "Model:                            OLS   Adj. R-squared:                  0.894\n",
      "Method:                 Least Squares   F-statistic:                     705.1\n",
      "Date:                Fri, 28 Feb 2020   Prob (F-statistic):               0.00\n",
      "Time:                        23:18:13   Log-Likelihood:                 740.56\n",
      "No. Observations:                1166   AIC:                            -1451.\n",
      "Df Residuals:                    1151   BIC:                            -1375.\n",
      "Df Model:                          14                                         \n",
      "Covariance Type:            nonrobust                                         \n",
      "====================================================================================\n",
      "                       coef    std err          t      P>|t|      [0.025      0.975]\n",
      "------------------------------------------------------------------------------------\n",
      "const               11.1615      0.021    527.294      0.000      11.120      11.203\n",
      "abnormal_sale       -0.0905      0.016     -5.757      0.000      -0.121      -0.060\n",
      "adj_lot_area      2.223e-06   3.82e-07      5.819      0.000    1.47e-06    2.97e-06\n",
      "adj_ovr_qual         0.0648      0.005     13.312      0.000       0.055       0.074\n",
      "bad_ament_ct        -0.0265      0.007     -3.984      0.000      -0.040      -0.013\n",
      "bldg_sf              0.0002   8.06e-06     22.992      0.000       0.000       0.000\n",
      "btm_5_nbrhd         -0.0956      0.011     -8.774      0.000      -0.117      -0.074\n",
      "good_ament_ct        0.0316      0.005      6.924      0.000       0.023       0.041\n",
      "neg_ovrll_cond      -0.1160      0.017     -6.774      0.000      -0.150      -0.082\n",
      "outside_sf           0.0001   2.66e-05      4.205      0.000    5.96e-05       0.000\n",
      "remodelage          -0.0014      0.000     -5.291      0.000      -0.002      -0.001\n",
      "sgl_famly_hm        -0.0710      0.011     -6.557      0.000      -0.092      -0.050\n",
      "top_3_nbrhd          0.0889      0.015      5.810      0.000       0.059       0.119\n",
      "total_baths          0.0556      0.007      8.085      0.000       0.042       0.069\n",
      "two_plus_cr_garg     0.0619      0.010      6.114      0.000       0.042       0.082\n",
      "==============================================================================\n",
      "Omnibus:                      239.668   Durbin-Watson:                   1.948\n",
      "Prob(Omnibus):                  0.000   Jarque-Bera (JB):             1256.469\n",
      "Skew:                          -0.847   Prob(JB):                    1.45e-273\n",
      "Kurtosis:                       7.795   Cond. No.                     8.38e+04\n",
      "==============================================================================\n",
      "\n",
      "Warnings:\n",
      "[1] Standard Errors assume that the covariance matrix of the errors is correctly specified.\n",
      "[2] The condition number is large, 8.38e+04. This might indicate that there are\n",
      "strong multicollinearity or other numerical problems.\n"
     ]
    }
   ],
   "source": [
    "X_add_constant = sm.add_constant(X_train_log)\n",
    "ols_log = sm.OLS(y_train_log, X_add_constant)\n",
    "ans_log = ols_log.fit()\n",
    "print(ans_log.summary())\n"
   ]
  },
  {
   "cell_type": "markdown",
   "metadata": {},
   "source": [
    "- Evaluation of OLS for non-log LR"
   ]
  },
  {
   "cell_type": "code",
   "execution_count": 16,
   "metadata": {
    "pycharm": {
     "is_executing": false
    }
   },
   "outputs": [
    {
     "name": "stdout",
     "output_type": "stream",
     "text": [
      "                            OLS Regression Results                            \n",
      "==============================================================================\n",
      "Dep. Variable:              saleprice   R-squared:                       0.866\n",
      "Model:                            OLS   Adj. R-squared:                  0.863\n",
      "Method:                 Least Squares   F-statistic:                     388.2\n",
      "Date:                Fri, 28 Feb 2020   Prob (F-statistic):               0.00\n",
      "Time:                        23:18:28   Log-Likelihood:                -13659.\n",
      "No. Observations:                1166   AIC:                         2.736e+04\n",
      "Df Residuals:                    1146   BIC:                         2.746e+04\n",
      "Df Model:                          19                                         \n",
      "Covariance Type:            nonrobust                                         \n",
      "====================================================================================\n",
      "                       coef    std err          t      P>|t|      [0.025      0.975]\n",
      "------------------------------------------------------------------------------------\n",
      "const            -8855.0927   5854.744     -1.512      0.131   -2.03e+04    2632.126\n",
      "abnormal_sale    -7596.3483   3652.224     -2.080      0.038   -1.48e+04    -430.553\n",
      "adj_lot_area         0.6010      0.089      6.773      0.000       0.427       0.775\n",
      "adj_ovr_qual      1.087e+04   1153.632      9.424      0.000    8608.236    1.31e+04\n",
      "bad_ament_ct      1736.0364   1560.106      1.113      0.266   -1324.948    4797.021\n",
      "bedroomsabvgr    -6031.8120   1266.118     -4.764      0.000   -8515.981   -3547.643\n",
      "bldg_sf             43.9761      2.088     21.066      0.000      39.880      48.072\n",
      "btm_5_nbrhd      -3938.8938   2719.210     -1.449      0.148   -9274.083    1396.295\n",
      "garagecars        1.739e+04   2634.136      6.600      0.000    1.22e+04    2.26e+04\n",
      "good_ament_ct     5980.9300   1109.874      5.389      0.000    3803.317    8158.543\n",
      "homeage            -58.8272     49.663     -1.185      0.236    -156.268      38.613\n",
      "lotfrontage         35.5368     27.539      1.290      0.197     -18.495      89.568\n",
      "neg_ovrll_cond   -1.433e+04   3967.200     -3.612      0.000   -2.21e+04   -6546.613\n",
      "newHome           6311.4684   3062.582      2.061      0.040     302.571    1.23e+04\n",
      "outside_sf          18.3980      6.251      2.943      0.003       6.133      30.663\n",
      "remodelage         -92.2212     62.256     -1.481      0.139    -214.369      29.927\n",
      "sgl_famly_hm     -1.749e+04   2609.948     -6.703      0.000   -2.26e+04   -1.24e+04\n",
      "top_3_nbrhd       3.891e+04   3636.486     10.699      0.000    3.18e+04     4.6e+04\n",
      "total_baths       1.158e+04   1674.782      6.917      0.000    8298.727    1.49e+04\n",
      "two_plus_cr_garg -2.078e+04   3890.058     -5.343      0.000   -2.84e+04   -1.32e+04\n",
      "==============================================================================\n",
      "Omnibus:                      573.589   Durbin-Watson:                   1.984\n",
      "Prob(Omnibus):                  0.000   Jarque-Bera (JB):             8994.535\n",
      "Skew:                           1.875   Prob(JB):                         0.00\n",
      "Kurtosis:                      16.080   Cond. No.                     9.88e+04\n",
      "==============================================================================\n",
      "\n",
      "Warnings:\n",
      "[1] Standard Errors assume that the covariance matrix of the errors is correctly specified.\n",
      "[2] The condition number is large, 9.88e+04. This might indicate that there are\n",
      "strong multicollinearity or other numerical problems.\n"
     ]
    }
   ],
   "source": [
    "X_add_constant_non_log = sm.add_constant(X_train)\n",
    "ols = sm.OLS(y_train, X_add_constant_non_log)\n",
    "ans = ols.fit()\n",
    "print(ans.summary())"
   ]
  },
  {
   "cell_type": "code",
   "execution_count": 17,
   "metadata": {
    "pycharm": {
     "is_executing": false
    }
   },
   "outputs": [],
   "source": [
    "# Prediction error plot to further evaluate normality of residual distribution\n",
    "from yellowbrick.regressor import prediction_error\n",
    "\n",
    "visualizer = prediction_error(lr_log, X_train_log, y_train_log)"
   ]
  },
  {
   "cell_type": "markdown",
   "metadata": {
    "collapsed": false,
    "pycharm": {
     "name": "#%% md\n"
    }
   },
   "source": [
    "- qq plot of prediction error appears to follow in a straight line, which is indicative of a normally distributed error term.\n"
   ]
  },
  {
   "cell_type": "code",
   "execution_count": 18,
   "metadata": {
    "pycharm": {
     "is_executing": false
    }
   },
   "outputs": [
    {
     "name": "stderr",
     "output_type": "stream",
     "text": [
      "C:\\Users\\jason\\Anaconda3\\lib\\site-packages\\yellowbrick\\regressor\\influence.py:183: UserWarning: In Matplotlib 3.3 individual lines on a stem plot will be added as a LineCollection instead of individual lines. This significantly improves the performance of a stem plot. To remove this warning and switch to the new behaviour, set the \"use_line_collection\" keyword argument to True.\n",
      "  self.distance_, linefmt=self.linefmt, markerfmt=self.markerfmt\n"
     ]
    }
   ],
   "source": [
    "from yellowbrick.regressor import cooks_distance\n",
    "\n",
    "cd_visualizer = cooks_distance(X=X_train, y=y_train_log)"
   ]
  },
  {
   "cell_type": "markdown",
   "metadata": {
    "collapsed": false,
    "pycharm": {
     "name": "#%% md\n"
    }
   },
   "source": [
    "## Cross Validation through YellowBrick\n",
    "- linear log model is evaluated via 4-k fold"
   ]
  },
  {
   "cell_type": "code",
   "execution_count": 18,
   "metadata": {
    "pycharm": {
     "is_executing": false
    }
   },
   "outputs": [
    {
     "name": "stderr",
     "output_type": "stream",
     "text": [
      "C:\\Users\\jason\\Anaconda3\\lib\\site-packages\\sklearn\\model_selection\\_split.py:296: FutureWarning: Setting a random_state has no effect since shuffle is False. This will raise an error in 0.24. You should leave random_state to its default (None), or set shuffle=True.\n",
      "  FutureWarning\n"
     ]
    },
    {
     "data": {
      "image/png": "[encoded data removed]",
      "text/plain": [
       "<Figure size 432x288 with 1 Axes>"
      ]
     },
     "metadata": {
      "needs_background": "light"
     },
     "output_type": "display_data"
    },
    {
     "data": {
      "text/plain": [
       "<matplotlib.axes._subplots.AxesSubplot at 0x1cad712d548>"
      ]
     },
     "execution_count": 18,
     "metadata": {},
     "output_type": "execute_result"
    }
   ],
   "source": [
    "from sklearn.model_selection import KFold\n",
    "\n",
    "from yellowbrick.model_selection import CVScores\n",
    "\n",
    "# Instantiate the KFold settings\n",
    "cv = KFold(n_splits=4, random_state=42)\n",
    "\n",
    "cv_visualizer = CVScores(model=lr_log, cv=cv, scoring=\"r2\")\n",
    "\n",
    "cv_visualizer.fit(X=X_train_log, y=y_train_log) # fit data into visualizer \n",
    "cv_visualizer.poof()"
   ]
  },
  {
   "cell_type": "markdown",
   "metadata": {
    "collapsed": false,
    "pycharm": {
     "name": "#%% md\n"
    }
   },
   "source": [
    "- Median cross-validation R2 score is 89% and fairly consistent. \n",
    "- Evaluating next via sci-kit learn's model selection package\n"
   ]
  },
  {
   "cell_type": "code",
   "execution_count": 20,
   "metadata": {
    "pycharm": {
     "is_executing": false
    }
   },
   "outputs": [
    {
     "name": "stdout",
     "output_type": "stream",
     "text": [
      "CV scores for R2 are:\n",
      "Scores: [0.90428866 0.86572185 0.88986652 0.8989199 ]\n",
      "Mean: 0.8896992325020114\n",
      "Standard Deviation: 0.014771720534778557\n",
      "\n",
      "CV scores for RMSE are:\n",
      "Scores: [0.01445219 0.01947044 0.02003653 0.01531323]\n",
      "Mean: 0.017318098775566625\n",
      "Standard Deviation: 0.00246248587044963\n"
     ]
    }
   ],
   "source": [
    "from sklearn.model_selection import cross_val_score\n",
    "lr_r2_scores = cross_val_score(estimator = lr_log, X = X_train_log, y = y_train_log, scoring = 'r2', cv= 4)\n",
    "lr_rmse = -1 * cross_val_score(estimator= lr_log, X = X_train_log, y = y_train_log, scoring = \"neg_mean_squared_error\", cv=4)\n",
    "def display_cv_scores(scores):\n",
    "    print(\"Scores:\", scores)\n",
    "    print(\"Mean:\", scores.mean())\n",
    "    print(\"Standard Deviation:\", scores.std())\n",
    " \n",
    "print(\"CV scores for R2 are:\")   \n",
    "display_cv_scores(lr_r2_scores)\n",
    "print(\"\")\n",
    "print(\"CV scores for RMSE are:\")\n",
    "display_cv_scores(lr_rmse)"
   ]
  },
  {
   "cell_type": "markdown",
   "metadata": {
    "collapsed": false,
    "pycharm": {
     "name": "#%% md\n"
    }
   },
   "source": [
    "- Based upon cross-validation and test R2, we appear to have a strong and consistent predictor of housing prices.\n",
    "- The mean average is .89, which is also the value of the test R2 on the 20% hold out test-set. The standard deviation is also fairly low (e.g., 1.3%), which indicates that our model is not overly sensitive to the input data set.\n"
   ]
  },
  {
   "cell_type": "markdown",
   "metadata": {},
   "source": [
    "## VIF Evaluation\n",
    "\n",
    "- VIF (Variance Inflation Factor) is reviewed to determine if there is any multi-collinearity. Generally, any feature with a VIF value of 5 or higher is generally regarded as a feature that is likely to be co-linear with another feature or combination of other features in the model. "
   ]
  },
  {
   "cell_type": "code",
   "execution_count": 32,
   "metadata": {},
   "outputs": [
    {
     "data": {
      "text/html": [
       "<div>\n",
       "<style scoped>\n",
       "    .dataframe tbody tr th:only-of-type {\n",
       "        vertical-align: middle;\n",
       "    }\n",
       "\n",
       "    .dataframe tbody tr th {\n",
       "        vertical-align: top;\n",
       "    }\n",
       "\n",
       "    .dataframe thead th {\n",
       "        text-align: right;\n",
       "    }\n",
       "</style>\n",
       "<table border=\"1\" class=\"dataframe\">\n",
       "  <thead>\n",
       "    <tr style=\"text-align: right;\">\n",
       "      <th></th>\n",
       "      <th>VIF Factor</th>\n",
       "      <th>features</th>\n",
       "    </tr>\n",
       "  </thead>\n",
       "  <tbody>\n",
       "    <tr>\n",
       "      <th>0</th>\n",
       "      <td>32.6</td>\n",
       "      <td>Intercept</td>\n",
       "    </tr>\n",
       "    <tr>\n",
       "      <th>1</th>\n",
       "      <td>1.0</td>\n",
       "      <td>abnormal_sale</td>\n",
       "    </tr>\n",
       "    <tr>\n",
       "      <th>2</th>\n",
       "      <td>1.1</td>\n",
       "      <td>adj_lot_area</td>\n",
       "    </tr>\n",
       "    <tr>\n",
       "      <th>3</th>\n",
       "      <td>3.1</td>\n",
       "      <td>adj_ovr_qual</td>\n",
       "    </tr>\n",
       "    <tr>\n",
       "      <th>4</th>\n",
       "      <td>1.7</td>\n",
       "      <td>bad_ament_ct</td>\n",
       "    </tr>\n",
       "    <tr>\n",
       "      <th>5</th>\n",
       "      <td>2.7</td>\n",
       "      <td>bldg_sf</td>\n",
       "    </tr>\n",
       "    <tr>\n",
       "      <th>6</th>\n",
       "      <td>1.3</td>\n",
       "      <td>btm_5_nbrhd</td>\n",
       "    </tr>\n",
       "    <tr>\n",
       "      <th>7</th>\n",
       "      <td>3.2</td>\n",
       "      <td>good_ament_ct</td>\n",
       "    </tr>\n",
       "    <tr>\n",
       "      <th>8</th>\n",
       "      <td>1.2</td>\n",
       "      <td>neg_ovrll_cond</td>\n",
       "    </tr>\n",
       "    <tr>\n",
       "      <th>9</th>\n",
       "      <td>1.3</td>\n",
       "      <td>outside_sf</td>\n",
       "    </tr>\n",
       "    <tr>\n",
       "      <th>10</th>\n",
       "      <td>1.8</td>\n",
       "      <td>remodelage</td>\n",
       "    </tr>\n",
       "    <tr>\n",
       "      <th>11</th>\n",
       "      <td>1.1</td>\n",
       "      <td>sgl_famly_hm</td>\n",
       "    </tr>\n",
       "    <tr>\n",
       "      <th>12</th>\n",
       "      <td>1.5</td>\n",
       "      <td>top_3_nbrhd</td>\n",
       "    </tr>\n",
       "    <tr>\n",
       "      <th>13</th>\n",
       "      <td>2.0</td>\n",
       "      <td>total_baths</td>\n",
       "    </tr>\n",
       "    <tr>\n",
       "      <th>14</th>\n",
       "      <td>1.5</td>\n",
       "      <td>two_plus_cr_garg</td>\n",
       "    </tr>\n",
       "  </tbody>\n",
       "</table>\n",
       "</div>"
      ],
      "text/plain": [
       "    VIF Factor          features\n",
       "0         32.6         Intercept\n",
       "1          1.0     abnormal_sale\n",
       "2          1.1      adj_lot_area\n",
       "3          3.1      adj_ovr_qual\n",
       "4          1.7      bad_ament_ct\n",
       "5          2.7           bldg_sf\n",
       "6          1.3       btm_5_nbrhd\n",
       "7          3.2     good_ament_ct\n",
       "8          1.2    neg_ovrll_cond\n",
       "9          1.3        outside_sf\n",
       "10         1.8        remodelage\n",
       "11         1.1      sgl_famly_hm\n",
       "12         1.5       top_3_nbrhd\n",
       "13         2.0       total_baths\n",
       "14         1.5  two_plus_cr_garg"
      ]
     },
     "execution_count": 32,
     "metadata": {},
     "output_type": "execute_result"
    }
   ],
   "source": [
    "from patsy import dmatrices\n",
    "from statsmodels.stats.outliers_influence import variance_inflation_factor\n",
    "\n",
    "features_vif = \"+\".join(X_train_log.columns)\n",
    "\n",
    "features_target = pd.concat([X_train_log, y_train_log], axis=\"columns\")\n",
    "\n",
    "y_VIF, X_VIF = dmatrices('log_saleprice ~' + features_vif, features_target, return_type = \"dataframe\")\n",
    "\n",
    "vif = pd.DataFrame()\n",
    "vif[\"VIF Factor\"] = [variance_inflation_factor(X_VIF.values, i) for i in range(X_VIF.shape[1])]\n",
    "vif[\"features\"] = X_VIF.columns\n",
    "\n",
    "vif.round(1)\n"
   ]
  },
  {
   "cell_type": "markdown",
   "metadata": {},
   "source": [
    "- There are no features with a VIF factor greater than 5, the general cutoff for multicollinearity \"concern.\" The highest VIF value are 3.1 and 3.2 for adj_ovr_qual and good_ament_ct, respctively."
   ]
  },
  {
   "cell_type": "markdown",
   "metadata": {},
   "source": [
    "## Model Output as Picket Object\n",
    "- Output of model object to be utilized in prediction"
   ]
  },
  {
   "cell_type": "code",
   "execution_count": 21,
   "metadata": {
    "pycharm": {
     "is_executing": false
    }
   },
   "outputs": [
    {
     "data": {
      "text/plain": [
       "['../model_files/lr_log_model.joblib']"
      ]
     },
     "execution_count": 21,
     "metadata": {},
     "output_type": "execute_result"
    }
   ],
   "source": [
    "from joblib import dump\n",
    "\n",
    "dump(lr_log, '../model_files/lr_log_model.joblib')"
   ]
  },
  {
   "cell_type": "code",
   "execution_count": 22,
   "metadata": {
    "collapsed": false,
    "lines_to_next_cell": 2,
    "pycharm": {
     "is_executing": false,
     "name": "#%%\n"
    }
   },
   "outputs": [
    {
     "data": {
      "text/plain": [
       "array([12.42114622, 11.53612132, 11.65253759, 12.03283709, 12.58780694,\n",
       "       11.84884693, 12.26063326, 12.62938307, 12.4861728 , 11.67356237,\n",
       "       11.89263025, 12.25148718, 12.08724713, 12.55220603, 12.04339748,\n",
       "       11.96704903, 12.22371934, 11.76416969, 11.67969021, 12.30070167,\n",
       "       12.21605586, 12.1819362 , 12.12345756, 12.33960163, 12.2622282 ,\n",
       "       11.97903334, 12.19009379, 11.63632195, 12.1082262 , 11.88395614,\n",
       "       11.71996983, 11.68535211, 12.15872478, 11.56623508, 12.47780233,\n",
       "       12.53259391, 11.79755487, 12.26347252, 11.55719524, 11.32885492,\n",
       "       11.76248639, 12.36611672, 11.64990142, 11.61983963, 11.76813537,\n",
       "       11.93834872, 11.81132531, 11.7275728 , 11.81630392, 11.82398646,\n",
       "       11.90357931, 11.28862287, 11.5160027 , 11.97990977, 11.92207522,\n",
       "       12.40290727, 12.29631165, 11.84056938, 11.76348809, 11.02302099,\n",
       "       11.37736253, 12.20072469, 12.62852313, 12.42344178, 12.55267154,\n",
       "       12.20443501, 11.48047491, 11.25705815, 11.86706736, 11.92783386,\n",
       "       12.68908632, 11.82590222, 11.57774482, 11.93629803, 12.20356768,\n",
       "       12.21181815, 12.41220124, 12.03639769, 11.76525817, 11.63459976,\n",
       "       11.58041739, 11.31614295, 11.73302775, 11.42438736, 11.90161286,\n",
       "       12.65842844, 12.36025506, 12.18163254, 11.68475703, 11.86545237,\n",
       "       12.02350331, 11.75060124, 11.63069458, 12.58835674, 11.83873292,\n",
       "       12.20202359, 12.10174712, 12.67297514, 12.24480374, 12.41147266,\n",
       "       12.08266746, 12.35872788, 12.55572575, 11.85743965, 11.98033233,\n",
       "       12.13283816, 12.15333876, 12.37187775, 11.37910587, 12.54744598,\n",
       "       12.05421789, 11.74248935, 12.11234341, 11.86484901, 12.20568445,\n",
       "       11.58781671, 12.21943471, 11.61233351, 11.61652279, 12.8078299 ,\n",
       "       12.25227641, 11.92306155, 12.4205252 , 12.10820446, 12.21826146,\n",
       "       11.80076066, 12.38515784, 12.14771424, 12.21729149, 11.85209115,\n",
       "       12.96152905, 11.80806557, 11.78494418, 11.67662136, 10.96284561,\n",
       "       12.118246  , 12.79069688, 11.72657966, 12.36033089, 12.31352038,\n",
       "       12.80395474, 12.87691507, 12.09561222, 11.71898626, 11.77274512,\n",
       "       11.74957871, 12.17685191, 12.19161104, 12.49439541, 12.39846605,\n",
       "       11.65463621, 11.87372404, 12.16423865, 11.92875618, 12.21739712,\n",
       "       11.84432736, 11.78310992, 12.00637373, 12.4514985 , 12.2150205 ,\n",
       "       12.20968899, 11.82692788, 12.4928534 , 11.82901053, 11.96878522,\n",
       "       12.13233494, 12.29034632, 12.59909836, 11.82597868, 12.24897418,\n",
       "       12.80305421, 11.46601598, 11.44917279, 12.55456716, 12.16442899,\n",
       "       11.5913858 , 11.60285018, 11.73764264, 11.9156424 , 11.40348393,\n",
       "       11.72421639, 12.0185152 , 12.67178232, 11.82179681, 12.48584168,\n",
       "       11.85111801, 11.50228434, 12.25973937, 12.6970346 , 12.03526391,\n",
       "       11.71590182, 12.59895803, 11.80228009, 11.79442686, 11.41923132,\n",
       "       12.50652873, 12.13246427, 11.35180768, 12.1618688 , 11.68777756,\n",
       "       12.42738556, 12.1825364 , 11.62261143, 12.70348202, 12.52051369,\n",
       "       12.16117431, 12.41338727, 11.82342035, 11.97126901, 11.61452894,\n",
       "       12.3417978 , 12.0781611 , 11.73592366, 11.90014051, 12.29090652,\n",
       "       12.41397427, 12.17748435, 12.08855657, 11.63017409, 11.70258478,\n",
       "       12.47135051, 12.38554253, 12.01478741, 12.16467742, 12.14438471,\n",
       "       11.85154638, 11.63000494, 11.53830494, 11.61651898, 11.40764046,\n",
       "       11.32741804, 12.06121833, 12.19157752, 11.57299444, 11.94563284,\n",
       "       11.8247208 , 12.19541297, 11.96887955, 12.40986338, 11.96507084,\n",
       "       11.62679218, 12.44734857, 12.25671055, 12.94677457, 12.30696792,\n",
       "       12.18372369, 11.95198396, 11.93907475, 11.7446549 , 11.48815634,\n",
       "       12.31042138, 11.91631875, 11.80811631, 11.69408184, 12.46804591,\n",
       "       12.17516462, 11.73792956, 12.6400023 , 12.04722942, 11.23775083,\n",
       "       12.13122674, 11.63903045, 11.72951855, 12.41474591, 12.52747054,\n",
       "       12.52410212, 12.08381383, 11.86402335, 12.50054853, 12.08113425,\n",
       "       11.71573512, 12.35465597, 12.34406982, 11.35590845, 11.75576392,\n",
       "       11.70134608, 11.51644759, 12.60298207, 11.53571843, 12.27116903,\n",
       "       12.27458322, 11.4067113 , 12.11512626, 12.77315277, 12.55427639,\n",
       "       11.8990828 , 12.28800977, 11.61537032, 12.48685874, 12.21571141,\n",
       "       11.65143927, 11.63907799])"
      ]
     },
     "execution_count": 22,
     "metadata": {},
     "output_type": "execute_result"
    }
   ],
   "source": [
    "lr_log.predict(X_test_log)\n"
   ]
  },
  {
   "cell_type": "code",
   "execution_count": 23,
   "metadata": {
    "collapsed": false,
    "pycharm": {
     "is_executing": false,
     "name": "#%%\n"
    }
   },
   "outputs": [
    {
     "data": {
      "text/plain": [
       "Index(['abnormal_sale', 'adj_lot_area', 'adj_ovr_qual', 'bad_ament_ct',\n",
       "       'bldg_sf', 'btm_5_nbrhd', 'good_ament_ct', 'neg_ovrll_cond',\n",
       "       'outside_sf', 'remodelage', 'sgl_famly_hm', 'top_3_nbrhd',\n",
       "       'total_baths', 'two_plus_cr_garg'],\n",
       "      dtype='object')"
      ]
     },
     "execution_count": 23,
     "metadata": {},
     "output_type": "execute_result"
    }
   ],
   "source": [
    "X_test_log.columns"
   ]
  },
  {
   "cell_type": "code",
   "execution_count": null,
   "metadata": {
    "collapsed": false,
    "pycharm": {
     "name": "#%%\n"
    }
   },
   "outputs": [],
   "source": [
    "\n"
   ]
  }
 ],
 "metadata": {
  "jupytext": {
   "formats": "ipynb,py"
  },
  "kernelspec": {
   "display_name": "Python 3.7.6 64-bit ('base': conda)",
   "language": "python",
   "name": "python37664bitbaseconda78814975a87e45dd93a41087a924c115"
  },
  "language_info": {
   "codemirror_mode": {
    "name": "ipython",
    "version": 2
   },
   "file_extension": ".py",
   "mimetype": "text/x-python",
   "name": "python",
   "nbconvert_exporter": "python",
   "pygments_lexer": "ipython2",
   "version": "3.7.6-final"
  },
  "pycharm": {
   "stem_cell": {
    "cell_type": "raw",
    "metadata": {
     "collapsed": false
    },
    "source": []
   }
  }
 },
 "nbformat": 4,
 "nbformat_minor": 0
}
