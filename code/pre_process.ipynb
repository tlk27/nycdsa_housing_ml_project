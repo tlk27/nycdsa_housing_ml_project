{
 "cells": [
  {
   "cell_type": "code",
   "execution_count": 1,
   "metadata": {
    "collapsed": true,
    "pycharm": {
     "is_executing": false
    }
   },
   "outputs": [
    {
     "name": "stdout",
     "text": [
      "Populating the interactive namespace from numpy and matplotlib\n"
     ],
     "output_type": "stream"
    }
   ],
   "source": [
    "import janitor as jn\n",
    "import pandas as pd\n",
    "\n",
    "%pylab inline\n"
   ]
  },
  {
   "cell_type": "code",
   "execution_count": 2,
   "metadata": {
    "collapsed": false,
    "pycharm": {
     "is_executing": false,
     "name": "#%%\n"
    }
   },
   "outputs": [],
   "source": [
    "file_path = r\"..\\data\\train.csv\"\n",
    "\n",
    "# column list to import from train csv file based upon initial\n",
    "# EDA work \n",
    "import_list = ['Id', 'MSSubClass', 'MSZoning', 'LotFrontage', 'LotArea', 'Alley','LotShape', 'Neighborhood', 'Condition1', \n",
    "              'Condition2', 'BldgType', 'HouseStyle','OverallQual', 'OverallCond', 'YearBuilt', 'YearRemodAdd', \n",
    "              'Exterior1st', 'Exterior2nd', 'MasVnrType', 'MasVnrArea', 'BsmtQual', 'BsmtCond', 'BsmtExposure', \n",
    "              'BsmtFinType1', 'BsmtFinSF1', 'BsmtFinType2','BsmtFinSF2', 'BsmtUnfSF', 'TotalBsmtSF', 'CentralAir', \n",
    "              'Electrical', '1stFlrSF', '2ndFlrSF', 'LowQualFinSF', 'GrLivArea', 'BsmtFullBath', 'BsmtHalfBath', \n",
    "              'FullBath', 'HalfBath', 'BedroomAbvGr', 'KitchenAbvGr', 'KitchenQual', 'TotRmsAbvGrd', 'Fireplaces',\n",
    "              'FireplaceQu', 'WoodDeckSF', 'OpenPorchSF', 'EnclosedPorch', '3SsnPorch','ScreenPorch', 'YrSold', \n",
    "              'SaleType', 'SaleCondition','Electrical',\"HeatingQC\",\"Fireplaces\", \"FireplaceQu\", \"BsmtQual\", \"BsmtFinType1\", \n",
    "              \"BsmtFinType2\", 'LotFrontage', 'LotArea', 'GarageCars', 'OverallCond', 'SalePrice'] "
   ]
  },
  {
   "cell_type": "code",
   "execution_count": 3,
   "metadata": {
    "collapsed": false,
    "pycharm": {
     "is_executing": false,
     "name": "#%%\n"
    }
   },
   "outputs": [],
   "source": [
    "# Index will be the ID of the house sale\n",
    "initial_df = pd.read_csv(filepath_or_buffer=file_path, usecols=import_list, index_col=0)\n",
    "\n",
    "# convert column names to lowercase and replace spaces with underscores\n",
    "cleaned_df = jn.clean_names(initial_df)"
   ]
  },
  {
   "cell_type": "code",
   "execution_count": 4,
   "metadata": {
    "collapsed": false,
    "pycharm": {
     "is_executing": false,
     "name": "#%%\n"
    }
   },
   "outputs": [],
   "source": [
    "cleaned_df.sample(5)\n",
    "\n",
    " # remove outliers based on Pre_process draft based upon Cook's distance > 3 times \n",
    "# mean absolute average \n",
    "# this step is performed prior to imputation steps  \n",
    "cleaned_df = cleaned_df.drop([1299, 524], axis=\"rows\") "
   ]
  },
  {
   "cell_type": "code",
   "execution_count": 5,
   "metadata": {
    "collapsed": false,
    "pycharm": {
     "is_executing": false,
     "name": "#%%\n"
    }
   },
   "outputs": [],
   "source": [
    "# adjust basement sqft to cap effect of outliers that I have high basement sf but that do not appear to be \n",
    "# reflected in an increase in price \n",
    "cleaned_df[\"totalbsmtsf\"] = cleaned_df[\"totalbsmtsf\"].apply(lambda x: 3000 if x > 3000 else x)\n",
    "\n",
    "# Combined square footage metrics for building sf and outside sf (e.g., porch space)\n",
    "bldg_sqft = cleaned_df[[\"totalbsmtsf\", \"1stflrsf\", \"2ndflrsf\"]].sum(axis = \"columns\")\n",
    "outside_sf = cleaned_df[[\"wooddecksf\", \"openporchsf\", \"3ssnporch\", \"screenporch\", \"enclosedporch\"]].sum(axis=\"columns\")\n",
    "lot_sf = cleaned_df[\"lotarea\"] - cleaned_df['1stflrsf'] - outside_sf\n",
    "lot_sf = lot_sf.apply(lambda x: 12500 if x > 12500 else x)\n",
    "\n",
    "# limit lot_sf to maximum of 25,000 sqft, feature does not appear to be valued above this mark."
   ]
  },
  {
   "cell_type": "code",
   "execution_count": 6,
   "metadata": {
    "collapsed": false,
    "pycharm": {
     "is_executing": false,
     "name": "#%%\n"
    }
   },
   "outputs": [],
   "source": [
    "# Combining above-basement and basement baths\n",
    "total_baths = cleaned_df[\"fullbath\"]  + cleaned_df[\"halfbath\"]/ 2 + cleaned_df[\"bsmtfullbath\"] \\\n",
    "                   + cleaned_df[\"bsmthalfbath\"] / 2\n"
   ]
  },
  {
   "cell_type": "code",
   "execution_count": 7,
   "metadata": {
    "collapsed": false,
    "pycharm": {
     "is_executing": false,
     "name": "#%%\n"
    }
   },
   "outputs": [],
   "source": [
    "# Various Dummifications\n",
    "# 0=1 flat if the building type is a single family home\n",
    "sgl_famly_hm = cleaned_df[\"bldgtype\"].apply(lambda x: 0 if x == '1Fam' else 1)\n",
    "\n",
    "# top 3 neighborhoods based upon median home price sales and general spread of prices based upon boxplot\n",
    "top_3_nbrhd = cleaned_df[\"neighborhood\"].isin([\"NridgHt\", \"NoRidge\", \"StoneBr\"]).map({False: 0, True: 1})\n",
    "\n",
    "# bottom 5 neighborhoods based upon median home and boxplot inspection\n",
    "btm_5_nbrhd = cleaned_df[\"neighborhood\"].isin([\"MeadowV\", \"IDOTRR\", \"BrDale\", \"OldTown\", \"Edwards\"]).map({False: 0, True: 1})\n",
    "\n",
    "# Fireplaces that are Excellent, Good or Typical/TA \n",
    "good_frplc = cleaned_df[\"fireplacequ\"].isin([\"Ex\", \"Gd\", \"TA\"]).map({False: 0, True: 1})\n",
    "\n",
    "# remodel age was general found to be more individually correlated with SalePrice than homeage than total home age\n",
    "# new_home = sold within past 5 years \n",
    "homeage = cleaned_df[\"yrsold\"] - cleaned_df[\"yearbuilt\"]\n",
    "remodelage = cleaned_df[\"yrsold\"] - cleaned_df[\"yearremodadd\"]\n",
    "remodelage = remodelage.apply(lambda x: 0 if abs(x) < 5 else x - 5)\n",
    "newHome = abs(homeage) < 5 # added to address minor instances where yr sold was earlier than year built/remodeled\n",
    "newHome = newHome.map({False: 0, True: 1})"
   ]
  },
  {
   "cell_type": "code",
   "execution_count": 8,
   "metadata": {
    "collapsed": false,
    "pycharm": {
     "is_executing": false,
     "name": "#%%\n"
    }
   },
   "outputs": [],
   "source": [
    "# Various measures where higher amenity ratings that were associated with higher home prices\n",
    "# these are being combined into a single \"positive amentities count\" feature \n",
    "\n",
    "# 1 Excellent Heating (important for a cold place :-))\n",
    "excl_heating = cleaned_df[\"heatingqc\"].isin([\"Ex\"]).map({False: 0, True:1})\n",
    "\n",
    "# 2 basement has GLQ (Good Living Quarter) in either \n",
    "bsmt_gd_lvg = (cleaned_df[\"bsmtfintype1\"].isin([\"GLQ\"]) | cleaned_df[\"bsmtfintype2\"].isin([\"GLQ\"])).map({False: 0, True:1})\n",
    "bsmt_gd_lvg.sum()\n",
    "\n",
    "# 3 Good, Excellent and \"Typical\"/TA fireplaces\n",
    "good_frplc = cleaned_df[\"fireplacequ\"].isin([\"Ex\", \"Gd\", \"TA\"]).map({False: 0, True: 1})\n",
    "\n",
    "# 4 Good and Excellent Kitchens being combined together \n",
    "ktch_groups = cleaned_df[\"kitchenqual\"].map({\"TA\": \"ktch_okay\", \"Fa\": \"ktch_okay\", \"Gd\": \"ktch_good\", \"Ex\": \"kitch_topnotch\"})\n",
    "ktch_dummies = pd.get_dummies(data=ktch_groups).drop(\"ktch_okay\", axis=\"columns\")\n",
    "\n",
    "# 5 Excellent Basement Quality\n",
    "excl_bsmt = cleaned_df[\"bsmtqual\"].isin([\"Ex\"]).map({False: 0, True:1})\n",
    "excl_bsmt.sum()\n",
    "\n",
    "good_ament_ct = pd.concat([excl_heating, excl_bsmt, ktch_dummies, bsmt_gd_lvg, good_frplc], axis = \"columns\").sum(axis=\"columns\")"
   ]
  },
  {
   "cell_type": "code",
   "execution_count": 9,
   "metadata": {
    "collapsed": false,
    "pycharm": {
     "is_executing": false,
     "name": "#%%\n"
    }
   },
   "outputs": [],
   "source": [
    "# Various measures where lower amenity ratings were associated with lower higher prices (versus the average/highly rated) \n",
    "# these are being combined into a single \"negative amentities count\" feature\n",
    "\n",
    "# 1 No fireplace\n",
    "no_fireplace = cleaned_df[\"fireplaces\"] == 0\n",
    "no_fireplace = no_fireplace.map({False: 0, True: 1})\n",
    "\n",
    "# 2 No Central AC\n",
    "no_central_ac = cleaned_df['centralair'].isin(['N']).map({False: 0, True:1}) \n",
    "\n",
    "# Electirical aside from standard circuitbreaker\n",
    "bad_electrical = cleaned_df['electrical'].isin(['Mix', 'FuseP', 'FuseF', 'FuseA']).map({False: 0, True:1})\n",
    "\n",
    "bad_ament_ct = pd.concat([no_central_ac, no_fireplace, bad_electrical], axis=\"columns\").sum(axis=\"columns\")\n"
   ]
  },
  {
   "cell_type": "code",
   "execution_count": 10,
   "metadata": {
    "collapsed": false,
    "pycharm": {
     "is_executing": false,
     "name": "#%%\n"
    }
   },
   "outputs": [],
   "source": [
    "# remaining features\n",
    "\n",
    "#1 credit for having garage space for two or more cars\n",
    "two_plus_cr_garg = cleaned_df[\"garagecars\"].apply(lambda x: 1 if x >= 2 else 0)\n",
    "\n",
    "# houses with a 4 or less overall condition showed on average lower sale price then\n",
    "# houses with an overall condition rating of 5 or higher \n",
    "neg_ovrll_cond = cleaned_df[\"overallcond\"].apply(lambda x: 1 if x <= 4 else 0)\n",
    "\n",
    "# House LotFrontage with NAs filled in as zeros\n",
    "cleaned_df[\"lotfrontage\"] = cleaned_df[\"lotfrontage\"].fillna(0)\n",
    "\n",
    "adj_lot_area = cleaned_df[\"lotarea\"] - outside_sf - cleaned_df[\"1stflrsf\"]\n",
    "\n",
    "abnormal_sale = (cleaned_df[\"salecondition\"] == \"Abnorml\").map({False: 0, True: 1}).fillna(0)\n",
    "\n",
    "adj_ovr_qual = cleaned_df[\"overallqual\"].apply(lambda x: 0 if x <=3 else x - 3)"
   ]
  },
  {
   "cell_type": "code",
   "execution_count": 11,
   "metadata": {
    "collapsed": false,
    "pycharm": {
     "is_executing": false,
     "name": "#%% \n"
    }
   },
   "outputs": [
    {
     "data": {
      "text/plain": "      bldg_sf  total_baths  good_ament_ct  btm_5_nbrhd  newHome  \\\nId                                                                \n1375     2984          2.5              3            0        1   \n1171     2214          2.0              0            0        0   \n317      3198          3.5              3            0        0   \n1167     3388          2.0              2            0        1   \n143      2295          2.0              0            0        0   \n\n      neg_ovrll_cond  adj_ovr_qual  adj_lot_area  bad_ament_ct  abnormal_sale  \\\nId                                                                              \n1375               0             4          9235             0              0   \n1171               0             3          8559             0              0   \n317                0             4         11369             0              0   \n1167               0             5          8588             1              0   \n143                1             2          7610             1              0   \n\n      outside_sf  two_plus_cr_garg  sgl_famly_hm  top_3_nbrhd  homeage  \\\nId                                                                       \n1375         364                 1             0            0        3   \n1171         203                 0             0            0       31   \n317          483                 1             0            0       29   \n1167         193                 1             0            0        2   \n143            0                 1             0            0       58   \n\n      remodelage  lotfrontage  garagecars  bedroomsabvgr  saleprice  \nId                                                                   \n1375           0         85.0           3              3     250000  \n1171          26         76.0           1              3     171000  \n317           24         94.0           2              4     260000  \n1167           0         64.0           3              3     245350  \n143           53         71.0           2              4     166000  ",
      "text/html": "<div>\n<style scoped>\n    .dataframe tbody tr th:only-of-type {\n        vertical-align: middle;\n    }\n\n    .dataframe tbody tr th {\n        vertical-align: top;\n    }\n\n    .dataframe thead th {\n        text-align: right;\n    }\n</style>\n<table border=\"1\" class=\"dataframe\">\n  <thead>\n    <tr style=\"text-align: right;\">\n      <th></th>\n      <th>bldg_sf</th>\n      <th>total_baths</th>\n      <th>good_ament_ct</th>\n      <th>btm_5_nbrhd</th>\n      <th>newHome</th>\n      <th>neg_ovrll_cond</th>\n      <th>adj_ovr_qual</th>\n      <th>adj_lot_area</th>\n      <th>bad_ament_ct</th>\n      <th>abnormal_sale</th>\n      <th>outside_sf</th>\n      <th>two_plus_cr_garg</th>\n      <th>sgl_famly_hm</th>\n      <th>top_3_nbrhd</th>\n      <th>homeage</th>\n      <th>remodelage</th>\n      <th>lotfrontage</th>\n      <th>garagecars</th>\n      <th>bedroomsabvgr</th>\n      <th>saleprice</th>\n    </tr>\n    <tr>\n      <th>Id</th>\n      <th></th>\n      <th></th>\n      <th></th>\n      <th></th>\n      <th></th>\n      <th></th>\n      <th></th>\n      <th></th>\n      <th></th>\n      <th></th>\n      <th></th>\n      <th></th>\n      <th></th>\n      <th></th>\n      <th></th>\n      <th></th>\n      <th></th>\n      <th></th>\n      <th></th>\n      <th></th>\n    </tr>\n  </thead>\n  <tbody>\n    <tr>\n      <th>1375</th>\n      <td>2984</td>\n      <td>2.5</td>\n      <td>3</td>\n      <td>0</td>\n      <td>1</td>\n      <td>0</td>\n      <td>4</td>\n      <td>9235</td>\n      <td>0</td>\n      <td>0</td>\n      <td>364</td>\n      <td>1</td>\n      <td>0</td>\n      <td>0</td>\n      <td>3</td>\n      <td>0</td>\n      <td>85.0</td>\n      <td>3</td>\n      <td>3</td>\n      <td>250000</td>\n    </tr>\n    <tr>\n      <th>1171</th>\n      <td>2214</td>\n      <td>2.0</td>\n      <td>0</td>\n      <td>0</td>\n      <td>0</td>\n      <td>0</td>\n      <td>3</td>\n      <td>8559</td>\n      <td>0</td>\n      <td>0</td>\n      <td>203</td>\n      <td>0</td>\n      <td>0</td>\n      <td>0</td>\n      <td>31</td>\n      <td>26</td>\n      <td>76.0</td>\n      <td>1</td>\n      <td>3</td>\n      <td>171000</td>\n    </tr>\n    <tr>\n      <th>317</th>\n      <td>3198</td>\n      <td>3.5</td>\n      <td>3</td>\n      <td>0</td>\n      <td>0</td>\n      <td>0</td>\n      <td>4</td>\n      <td>11369</td>\n      <td>0</td>\n      <td>0</td>\n      <td>483</td>\n      <td>1</td>\n      <td>0</td>\n      <td>0</td>\n      <td>29</td>\n      <td>24</td>\n      <td>94.0</td>\n      <td>2</td>\n      <td>4</td>\n      <td>260000</td>\n    </tr>\n    <tr>\n      <th>1167</th>\n      <td>3388</td>\n      <td>2.0</td>\n      <td>2</td>\n      <td>0</td>\n      <td>1</td>\n      <td>0</td>\n      <td>5</td>\n      <td>8588</td>\n      <td>1</td>\n      <td>0</td>\n      <td>193</td>\n      <td>1</td>\n      <td>0</td>\n      <td>0</td>\n      <td>2</td>\n      <td>0</td>\n      <td>64.0</td>\n      <td>3</td>\n      <td>3</td>\n      <td>245350</td>\n    </tr>\n    <tr>\n      <th>143</th>\n      <td>2295</td>\n      <td>2.0</td>\n      <td>0</td>\n      <td>0</td>\n      <td>0</td>\n      <td>1</td>\n      <td>2</td>\n      <td>7610</td>\n      <td>1</td>\n      <td>0</td>\n      <td>0</td>\n      <td>1</td>\n      <td>0</td>\n      <td>0</td>\n      <td>58</td>\n      <td>53</td>\n      <td>71.0</td>\n      <td>2</td>\n      <td>4</td>\n      <td>166000</td>\n    </tr>\n  </tbody>\n</table>\n</div>"
     },
     "metadata": {},
     "output_type": "execute_result",
     "execution_count": 11
    }
   ],
   "source": [
    "# specifying the target and explanatory variables \n",
    "list_of_features = [\n",
    "    bldg_sqft, total_baths, good_ament_ct, btm_5_nbrhd, newHome, neg_ovrll_cond, adj_ovr_qual, adj_lot_area,\n",
    "    bad_ament_ct, abnormal_sale, outside_sf, two_plus_cr_garg, sgl_famly_hm, top_3_nbrhd, homeage, remodelage,\n",
    "    cleaned_df[[\"lotfrontage\", \"garagecars\", \"bedroomabvgr\", \"saleprice\"]]\n",
    "]\n",
    "\n",
    "features_pls_trgt = pd.concat(list_of_features, axis=\"columns\")\n",
    "\n",
    "# specifying column name for items inputted as Series\n",
    "features_pls_trgt.columns = [\n",
    "    \"bldg_sf\", \"total_baths\", \"good_ament_ct\", \"btm_5_nbrhd\", \"newHome\",\"neg_ovrll_cond\", \"adj_ovr_qual\", \n",
    "    \"adj_lot_area\", \"bad_ament_ct\", \"abnormal_sale\", \"outside_sf\", \"two_plus_cr_garg\",\"sgl_famly_hm\", \"top_3_nbrhd\",\n",
    "    \"homeage\", \"remodelage\", \"lotfrontage\", \"garagecars\", \"bedroomsabvgr\", \"saleprice\",\n",
    "]\n",
    "\n",
    "features_pls_trgt.sample(5)"
   ]
  },
  {
   "cell_type": "code",
   "execution_count": 12,
   "metadata": {
    "collapsed": false,
    "pycharm": {
     "is_executing": false,
     "name": "#%%\n"
    }
   },
   "outputs": [],
   "source": [
    "# creating field that is the log of sale price\n",
    "features_pls_trgt[\"log_saleprice\"] = np.log(features_pls_trgt[\"saleprice\"])\n",
    "\n",
    "file_path_pre_process = r\"..\\pre_processed_data\\pre_processed.csv\"\n",
    "\n",
    "# output X and y to pre_processed CSV file (non-standardized)\n",
    "features_pls_trgt.to_csv(file_path_pre_process)"
   ]
  },
  {
   "cell_type": "code",
   "execution_count": 13,
   "metadata": {
    "collapsed": false,
    "pycharm": {
     "is_executing": false,
     "name": "#%%\n"
    }
   },
   "outputs": [
    {
     "name": "stdout",
     "text": [
      "(1458, 21)\n"
     ],
     "output_type": "stream"
    },
    {
     "data": {
      "text/plain": "Index(['bldg_sf', 'total_baths', 'good_ament_ct', 'btm_5_nbrhd', 'newHome',\n       'neg_ovrll_cond', 'adj_ovr_qual', 'adj_lot_area', 'bad_ament_ct',\n       'abnormal_sale', 'outside_sf', 'two_plus_cr_garg', 'sgl_famly_hm',\n       'top_3_nbrhd', 'homeage', 'remodelage', 'lotfrontage', 'garagecars',\n       'bedroomsabvgr', 'saleprice', 'log_saleprice'],\n      dtype='object')"
     },
     "metadata": {},
     "output_type": "execute_result",
     "execution_count": 13
    }
   ],
   "source": [
    "print(features_pls_trgt.shape)\n",
    "\n",
    "features_pls_trgt.columns"
   ]
  },
  {
   "cell_type": "code",
   "execution_count": null,
   "metadata": {
    "collapsed": false,
    "pycharm": {
     "name": "#%%\n"
    }
   },
   "outputs": [],
   "source": [
    "\n"
   ]
  }
 ],
 "metadata": {
  "jupytext": {
   "formats": "ipynb,py"
  },
  "kernelspec": {
   "display_name": "Python 3.7.6 64-bit ('base': conda)",
   "language": "python",
   "name": "python37664bitbaseconda78814975a87e45dd93a41087a924c115"
  },
  "language_info": {
   "codemirror_mode": {
    "name": "ipython",
    "version": 2
   },
   "file_extension": ".py",
   "mimetype": "text/x-python",
   "name": "python",
   "nbconvert_exporter": "python",
   "pygments_lexer": "ipython2",
   "version": "2.7.6"
  },
  "pycharm": {
   "stem_cell": {
    "cell_type": "raw",
    "source": [],
    "metadata": {
     "collapsed": false
    }
   }
  }
 },
 "nbformat": 4,
 "nbformat_minor": 0
}